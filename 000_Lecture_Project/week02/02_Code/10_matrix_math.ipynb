{
 "cells": [
  {
   "cell_type": "code",
   "execution_count": 2,
   "metadata": {},
   "outputs": [],
   "source": [
    "import numpy as np"
   ]
  },
  {
   "cell_type": "markdown",
   "metadata": {},
   "source": [
    "<h3 style='color:blue'>Calculate profit/loss from revenue and expenses</h3>"
   ]
  },
  {
   "cell_type": "code",
   "execution_count": 2,
   "metadata": {},
   "outputs": [
    {
     "data": {
      "text/plain": [
       "array([[100, 110, 120],\n",
       "       [ 14,  20,  20],\n",
       "       [  4,   8,  10]])"
      ]
     },
     "execution_count": 2,
     "metadata": {},
     "output_type": "execute_result"
    }
   ],
   "source": [
    "revenue = np.array([[180,200,220],[24,36,40],[12,18,20]])\n",
    "expenses = np.array([[80,90,100],[10,16,20],[8,10,10]])\n",
    "profit = revenue - expenses\n",
    "profit"
   ]
  },
  {
   "cell_type": "markdown",
   "metadata": {},
   "source": [
    "<h3 style='color:blue'> @ (Matrix dot product) vs * (element-to-element multiplicati0n) </h3>"
   ]
  },
  {
   "cell_type": "code",
   "execution_count": 22,
   "metadata": {},
   "outputs": [
    {
     "name": "stdout",
     "output_type": "stream",
     "text": [
      "a:\n",
      "[[1 2]\n",
      " [3 4]\n",
      " [5 6]]\n",
      "b: [1 2]\n",
      "Matrix Multiplication:\n",
      "a.dot(b):\n",
      "[ 5 11 17]\n",
      "\n",
      "a @ b : same as a.dot(b)\n",
      "a @ b : [ 5 11 17]\n"
     ]
    }
   ],
   "source": [
    "# Matrix Multiplication (dot product) exampple\n",
    "# https://stackoverflow.com/questions/66619157/numpy-dot-product-of-matrix-and-array\n",
    "import numpy as np\n",
    "a = np.array([[1, 2], [3, 4], [5, 6]])\n",
    "b = np.array([1, 2])\n",
    "print('a:')\n",
    "print(a)\n",
    "print('b:', b)\n",
    "\n",
    "print('Matrix Multiplication:')\n",
    "print('a.dot(b):')\n",
    "print(a.dot(b))\n",
    "print()\n",
    "# a = [[1 2]\n",
    "#      [3 4]\n",
    "#      [5 6]]\n",
    "# b:   [1 2]\n",
    "# a . b = [ 3 x 2 ] [2 x 1] = [3 x 1]\n",
    "#        ---    ---   -- --   --            ---   --   --\n",
    "#        | 1    2 |   | 1 |   | 1 x 1 + 2 x 2 |   |  5  |\n",
    "#        | 3    4 | . |   | = | 3 x 1 + 4 x 2 | = |  11 |\n",
    "#        | 5    6 |   | 2 |   | 5 x 1 + 6 x 2 |   |  17 |\n",
    "#        ---    ---   -- --   ---           ---   --   --\n",
    "print('a @ b : same as a.dot(b)')\n",
    "print('a @ b :', a @ b)"
   ]
  },
  {
   "cell_type": "code",
   "execution_count": 21,
   "metadata": {},
   "outputs": [
    {
     "name": "stdout",
     "output_type": "stream",
     "text": [
      "a:\n",
      "[[1 2]\n",
      " [3 4]\n",
      " [5 6]]\n",
      "b: [1 2]\n",
      "Matrix Multiplication:\n",
      "a * b:\n",
      "[[ 1  4]\n",
      " [ 3  8]\n",
      " [ 5 12]]\n"
     ]
    }
   ],
   "source": [
    "# *: element-by-element multiplicaiton\n",
    "import numpy as np\n",
    "a = np.array([[1, 2], [3, 4], [5, 6]])\n",
    "b = np.array([1, 2])\n",
    "print('a:')\n",
    "print(a)\n",
    "print('b:', b)\n",
    "# a = [[1 2]\n",
    "#      [3 4]\n",
    "#      [5 6]]\n",
    "# b:   [1 2]\n",
    "# a . b = [ 3 x 2 ] [2 x 1] => [3 x 2 ] * [ 3 x 2] => [ 3 x 2 ]\n",
    "#        ---    ---   -- --    --    ---   --    --    --            --   --     -- \n",
    "#        | 1    2 |   | 1 |    | 1   2 |   | 1  2 |    | 1 x 1  2 x 2 |   | 1   4 |\n",
    "#        | 3    4 | * |   | => | 3   4 | * | 1  2 | => | 3 x 1  4 x 2 | = | 3   8 |\n",
    "#        | 5    6 |   | 2 |    | 5   6 |   | 1  2 |    | 5 x 1  6 x 2 |   | 5  12 |\n",
    "#        ---    ---   -- --    ---   ---   --    --    --            --   --     --\n",
    "#        ---    ---   -- --\n",
    "print('Matrix Multiplication:')\n",
    "print('a * b:')\n",
    "print(a * b)"
   ]
  },
  {
   "cell_type": "markdown",
   "metadata": {},
   "source": [
    "<h3 style='color:blue'>Calculate total sales from units and price per unit using matrix multiplication</h3>"
   ]
  },
  {
   "cell_type": "code",
   "execution_count": 6,
   "metadata": {},
   "outputs": [
    {
     "name": "stdout",
     "output_type": "stream",
     "text": [
      "price_per_unit.shape:\n",
      "(3,)\n",
      "price_per_unit:\n",
      "[1000  400 1200]\n",
      "units.shape:\n",
      "(3, 3)\n",
      "units:\n",
      "[[30 40 50]\n",
      " [ 5 10 15]\n",
      " [ 2  5  7]]\n",
      "[[30000 16000 60000]\n",
      " [ 5000  4000 18000]\n",
      " [ 2000  2000  8400]]\n"
     ]
    }
   ],
   "source": [
    "# What is “*” in Numpy?\n",
    "# 1. NumPy performs operations element-by-element.\n",
    "# 2. Multiplying 2D arrays with * is not a matrix multiplication.\n",
    "# 3. “*” an element-by-element multiplication.\n",
    "price_per_unit = np.array([1000,400,1200])\n",
    "units = np.array([[30,40,50],[5,10,15],[2,5,7]])\n",
    "print('price_per_unit.shape:')\n",
    "print(price_per_unit.shape)\n",
    "print('price_per_unit:')\n",
    "print(price_per_unit)   # [1000  400 1200]\n",
    "print('units.shape:')\n",
    "print(units.shape)\n",
    "print('units:')\n",
    "# [[30 40 50]\n",
    "# [ 5 10 15]\n",
    "# [ 2  5  7]]\n",
    "print(units)\n",
    "# 1. Expand the [1000  400 1200] into \n",
    "# [\n",
    "#   [1000  400 1200]\n",
    "#   [1000  400 1200]\n",
    "#   [1000  400 1200]\n",
    "# ]\n",
    "# 2. Perform the element-by-element multiplication:\n",
    "# [\n",
    "#   [1000  400 1200]\n",
    "#   [1000  400 1200]\n",
    "#   [1000  400 1200]\n",
    "# ] \n",
    "#  *\n",
    "# [[30 40 50]\n",
    "# [ 5 10 15]\n",
    "# [ 2  5  7]]\n",
    "# Multiplication (Matrix multiplication: element by element wihtout summation)\n",
    "# [[ 1000 * 30      400 * 40     1200 * 50 ]     => [ 30,000      16,000     60,000 ]\n",
    "#  [ 1000 * 5       400 * 10     1200 * 15]      => [  5,000       4,000     18,000 ]  \n",
    "#  [ 1000 * 2       400 * 5      1200 * 7]]      => [  2,000       2,000      8,400 ]\n",
    "print(price_per_unit*units)"
   ]
  },
  {
   "cell_type": "markdown",
   "metadata": {},
   "source": [
    "In above case numpy is using broadcasting so it expands price_per_unit array from 1 row, 3 columns to 3 row and 3 columns. Correct way to do matrix multiplication is to use dot product as shown below"
   ]
  },
  {
   "cell_type": "code",
   "execution_count": 12,
   "metadata": {},
   "outputs": [
    {
     "name": "stdout",
     "output_type": "stream",
     "text": [
      "price_per_unit.shape:\n",
      "(3,)\n",
      "price_per_unit:\n",
      "[1000  400 1200]\n",
      "units.shape:\n",
      "(3, 3)\n",
      "units:\n",
      "[[30 40 50]\n",
      " [ 5 10 15]\n",
      " [ 2  5  7]]\n",
      "dot product: [1 x 3] * [3 x 3] = [1 x 3]: np.dot(price_per_unit,units)\n",
      "[34400 50000 64400]\n"
     ]
    }
   ],
   "source": [
    "print('price_per_unit.shape:')\n",
    "print(price_per_unit.shape)\n",
    "print('price_per_unit:')\n",
    "print(price_per_unit)   # [1000  400 1200]\n",
    "print('units.shape:')\n",
    "print(units.shape)\n",
    "print('units:')\n",
    "# [[30 40 50]\n",
    "# [ 5 10 15]\n",
    "# [ 2  5  7]]\n",
    "print(units)\n",
    "print('dot product: [1 x 3] * [3 x 3] = [1 x 3]: np.dot(price_per_unit,units)')\n",
    "#                        [[30 40 50]\n",
    "#  [1000  400  1200 ] *   [ 5 10 15]\n",
    "#                         [ 2  5  7]]\n",
    "#  = [ 1,000 * 30 + 400 * 50 + 1,200 * 2;      1000 * 40 + 400 * 10 + 1200 * 5;     1000 * 50 + 400 * 15 + 1200 * 7]\n",
    "#  = [     30,000 + 2,000    + 2,400;          40,000    + 4,000    + 6,000;           50,000 + 6,000    + 8,400]\n",
    "#  = [     34,400;                             50,000;                                 64,400] \n",
    "# =  [34400; 50000; 64400]\n",
    "print(np.dot(price_per_unit,units))"
   ]
  },
  {
   "cell_type": "markdown",
   "metadata": {},
   "source": [
    "# Solution 1: Convert USD revenues to INR"
   ]
  },
  {
   "cell_type": "code",
   "execution_count": 5,
   "metadata": {},
   "outputs": [
    {
     "data": {
      "text/plain": [
       "array([[15000, 16500, 18750],\n",
       "       [ 5100,  5925,  7875],\n",
       "       [ 8250, 10500, 13500],\n",
       "       [ 6000,  6375,  6750]])"
      ]
     },
     "execution_count": 5,
     "metadata": {},
     "output_type": "execute_result"
    }
   ],
   "source": [
    "revenues_usd = np.array([[200,220,250],[68,79,105],[110,140,180],[80,85,90]])\n",
    "revenues_inr = 75*revenues_usd\n",
    "revenues_inr"
   ]
  },
  {
   "cell_type": "markdown",
   "metadata": {},
   "source": [
    "# Solution 2: Calculate total flowers sale every month for divine flowers shop"
   ]
  },
  {
   "cell_type": "code",
   "execution_count": 6,
   "metadata": {},
   "outputs": [
    {
     "data": {
      "text/plain": [
       "array([1900, 2640, 1430])"
      ]
     },
     "execution_count": 6,
     "metadata": {},
     "output_type": "execute_result"
    }
   ],
   "source": [
    "units_sold = np.array([[50,60,25],[10,13,5],[40,70,52]])\n",
    "price_per_unit = np.array([20,30,15])\n",
    "total_sales_amount = np.dot(price_per_unit,units_sold)\n",
    "total_sales_amount"
   ]
  }
 ],
 "metadata": {
  "kernelspec": {
   "display_name": "Python 3 (ipykernel)",
   "language": "python",
   "name": "python3"
  },
  "language_info": {
   "codemirror_mode": {
    "name": "ipython",
    "version": 3
   },
   "file_extension": ".py",
   "mimetype": "text/x-python",
   "name": "python",
   "nbconvert_exporter": "python",
   "pygments_lexer": "ipython3",
   "version": "3.10.12"
  }
 },
 "nbformat": 4,
 "nbformat_minor": 4
}
