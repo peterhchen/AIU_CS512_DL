{
 "cells": [
  {
   "cell_type": "code",
   "execution_count": 36,
   "metadata": {},
   "outputs": [],
   "source": [
    "# Import Libraries\n",
    "import numpy as np\n",
    "from tensorflow.keras.preprocessing.text import one_hot\n",
    "from tensorflow.keras.preprocessing.sequence import pad_sequences\n",
    "from tensorflow.keras.models import Sequential\n",
    "from tensorflow.keras.layers import Dense\n",
    "from tensorflow.keras.layers import Flatten\n",
    "from tensorflow.keras.layers import Embedding"
   ]
  },
  {
   "cell_type": "code",
   "execution_count": 37,
   "metadata": {},
   "outputs": [
    {
     "name": "stdout",
     "output_type": "stream",
     "text": [
      "reviews:\n",
      "['nice food', 'amazing restaurant', 'too good', 'just loved it!', 'will go again', 'horrible food', 'never go there', 'poor service', 'poor quality', 'needs improvement']\n",
      "sentiment: [1 1 1 1 1 0 0 0 0 0]\n"
     ]
    }
   ],
   "source": [
    "reviews = ['nice food',\n",
    "        'amazing restaurant',\n",
    "        'too good',\n",
    "        'just loved it!',\n",
    "        'will go again',\n",
    "        'horrible food',\n",
    "        'never go there',\n",
    "        'poor service',\n",
    "        'poor quality',\n",
    "        'needs improvement']\n",
    "\n",
    "sentiment = np.array([1,1,1,1,1,0,0,0,0,0])\n",
    "print('reviews:')\n",
    "print(reviews)\n",
    "print('sentiment:', sentiment)"
   ]
  },
  {
   "cell_type": "code",
   "execution_count": 38,
   "metadata": {},
   "outputs": [
    {
     "name": "stdout",
     "output_type": "stream",
     "text": [
      "Positve:\n",
      "one_hot(\"nice food\", 30): [7, 21]\n",
      "one_hot(\"amazing restaurant\", 30): [15, 10]\n",
      "one_hot(\"too good\", 30): [22, 6]\n",
      "one_hot(\"just loved it!\", 30): [10, 21, 7]\n",
      "one_hot(\"will go again\", 30): [21, 29, 16]\n",
      "\n",
      "Negative:\n",
      "one_hot(\"horrible food\", 30): [21, 21]\n",
      "one_hot(\"never go there\", 30): [29, 29, 22]\n",
      "one_hot(\"poor service\", 30): [4, 15]\n",
      "one_hot(\"poor quality\", 30): [4, 26]\n",
      "one_hot(\"needs improvement\", 30): [26, 20]\n"
     ]
    }
   ],
   "source": [
    "# https://www.tensorflow.org/api_docs/python/tf/keras/preprocessing/text/one_hot\n",
    "# tf.keras.processing.text.on_hot(input_text, n) give the maximum number [0, n=30].\n",
    "# Postive \n",
    "print('Positve:')\n",
    "print('one_hot(\"nice food\", 30):', one_hot(\"nice food\", 30))\n",
    "print('one_hot(\"amazing restaurant\", 30):', one_hot(\"amazing restaurant\", 30))\n",
    "print('one_hot(\"too good\", 30):', one_hot(\"too good\", 30))\n",
    "print('one_hot(\"just loved it!\", 30):', one_hot(\"just loved it!\", 30))\n",
    "print('one_hot(\"will go again\", 30):', one_hot(\"will go again\", 30))\n",
    "# Negative\n",
    "print()\n",
    "print('Negative:')\n",
    "print('one_hot(\"horrible food\", 30):', one_hot(\"horrible food\", 30))\n",
    "print('one_hot(\"never go there\", 30):', one_hot(\"never go there\", 30))\n",
    "print('one_hot(\"poor service\", 30):', one_hot(\"poor service\", 30))\n",
    "print('one_hot(\"poor quality\", 30):', one_hot(\"poor quality\", 30))\n",
    "print('one_hot(\"needs improvement\", 30):', one_hot(\"needs improvement\", 30))"
   ]
  },
  {
   "cell_type": "code",
   "execution_count": 39,
   "metadata": {},
   "outputs": [
    {
     "name": "stdout",
     "output_type": "stream",
     "text": [
      "encoded_reviews:\n",
      "[[7, 21], [15, 10], [22, 6], [10, 21, 7], [21, 29, 16], [21, 21], [29, 29, 22], [4, 15], [4, 26], [26, 20]]\n"
     ]
    }
   ],
   "source": [
    "# Convert all the reivews into one_hot ecoding.\n",
    "vocab_size = 30\n",
    "encoded_reviews = [one_hot(d, vocab_size) for d in reviews]\n",
    "print('encoded_reviews:')\n",
    "print(encoded_reviews)"
   ]
  },
  {
   "cell_type": "code",
   "execution_count": 40,
   "metadata": {},
   "outputs": [
    {
     "name": "stdout",
     "output_type": "stream",
     "text": [
      "padded_reviews:\n",
      "[[ 7 21  0]\n",
      " [15 10  0]\n",
      " [22  6  0]\n",
      " [10 21  7]\n",
      " [21 29 16]\n",
      " [21 21  0]\n",
      " [29 29 22]\n",
      " [ 4 15  0]\n",
      " [ 4 26  0]\n",
      " [26 20  0]]\n"
     ]
    }
   ],
   "source": [
    "# We have the input sequences. Each sequences contains words.\n",
    "# What is the max word count of each input sequence?\n",
    "max_length = 3\n",
    "padded_reviews = pad_sequences(encoded_reviews, maxlen=max_length, padding='post')\n",
    "print('padded_reviews:')\n",
    "print(padded_reviews)"
   ]
  },
  {
   "cell_type": "code",
   "execution_count": 41,
   "metadata": {
    "scrolled": true
   },
   "outputs": [],
   "source": [
    "# Specify the embedded vector size.\n",
    "# vocab_size = 30\n",
    "# max_length = 3\n",
    "embeded_vector_size = 4\n",
    "\n",
    "model = Sequential()\n",
    "model.add(Embedding(vocab_size, embeded_vector_size, input_length=max_length,name=\"embedding\"))\n",
    "model.add(Flatten())\n",
    "model.add(Dense(1, activation='sigmoid'))"
   ]
  },
  {
   "cell_type": "code",
   "execution_count": 42,
   "metadata": {},
   "outputs": [
    {
     "name": "stdout",
     "output_type": "stream",
     "text": [
      "X:\n",
      "[[ 7 21  0]\n",
      " [15 10  0]\n",
      " [22  6  0]\n",
      " [10 21  7]\n",
      " [21 29 16]\n",
      " [21 21  0]\n",
      " [29 29 22]\n",
      " [ 4 15  0]\n",
      " [ 4 26  0]\n",
      " [26 20  0]]\n",
      "y: [1 1 1 1 1 0 0 0 0 0]\n"
     ]
    }
   ],
   "source": [
    "# input sequences in encoding forms: X and \n",
    "# output target: y\n",
    "X = padded_reviews\n",
    "y = sentiment\n",
    "print('X:')\n",
    "print(X)\n",
    "print('y:', y)"
   ]
  },
  {
   "cell_type": "code",
   "execution_count": 43,
   "metadata": {},
   "outputs": [
    {
     "name": "stdout",
     "output_type": "stream",
     "text": [
      "Model: \"sequential_7\"\n",
      "_________________________________________________________________\n",
      " Layer (type)                Output Shape              Param #   \n",
      "=================================================================\n",
      " embedding (Embedding)       (None, 3, 4)              120       \n",
      "                                                                 \n",
      " flatten_7 (Flatten)         (None, 12)                0         \n",
      "                                                                 \n",
      " dense_7 (Dense)             (None, 1)                 13        \n",
      "                                                                 \n",
      "=================================================================\n",
      "Total params: 133 (532.00 Byte)\n",
      "Trainable params: 133 (532.00 Byte)\n",
      "Non-trainable params: 0 (0.00 Byte)\n",
      "_________________________________________________________________\n",
      "None\n"
     ]
    }
   ],
   "source": [
    "model.compile(optimizer='adam', loss='binary_crossentropy', metrics=['accuracy'])\n",
    "print(model.summary())"
   ]
  },
  {
   "cell_type": "code",
   "execution_count": 44,
   "metadata": {
    "scrolled": true
   },
   "outputs": [
    {
     "data": {
      "text/plain": [
       "<keras.src.callbacks.History at 0x7f91d078e5c0>"
      ]
     },
     "execution_count": 44,
     "metadata": {},
     "output_type": "execute_result"
    }
   ],
   "source": [
    "model.fit(X, y, epochs=50, verbose=0)"
   ]
  },
  {
   "cell_type": "code",
   "execution_count": 50,
   "metadata": {},
   "outputs": [
    {
     "name": "stdout",
     "output_type": "stream",
     "text": [
      "1/1 [==============================] - 0s 20ms/step - loss: 0.6223 - accuracy: 1.0000\n",
      "accuracy:\n",
      "1.0\n"
     ]
    }
   ],
   "source": [
    "# evaluate the model\n",
    "loss, accuracy = model.evaluate(X, y)\n",
    "print('accuracy:')\n",
    "print(accuracy)"
   ]
  },
  {
   "cell_type": "code",
   "execution_count": 51,
   "metadata": {},
   "outputs": [
    {
     "name": "stdout",
     "output_type": "stream",
     "text": [
      "len(weights): 30\n",
      "weights:\n",
      "[[-0.06965557  0.00367606  0.08237346  0.05216464]\n",
      " [-0.02823919 -0.01955552  0.01174606 -0.03703552]\n",
      " [ 0.03013924 -0.00497038  0.0425275   0.02551112]\n",
      " [-0.02646829 -0.02060129 -0.04602636  0.04875183]\n",
      " [ 0.07662225  0.07200582  0.07823209 -0.0928142 ]\n",
      " [-0.04724219 -0.01749627 -0.03020895 -0.03521077]\n",
      " [ 0.06728394  0.00773586 -0.02382978  0.05918522]\n",
      " [ 0.01910876 -0.0501948  -0.08391881  0.06923967]\n",
      " [ 0.04591669  0.02584973  0.03441927 -0.04224567]\n",
      " [-0.00800632  0.00128511 -0.02568655 -0.01523328]\n",
      " [ 0.07713357 -0.0597582  -0.0197264   0.09262262]\n",
      " [ 0.01254566  0.02317253 -0.04988549 -0.00342947]\n",
      " [-0.02093738  0.01336727 -0.03097142  0.01798436]\n",
      " [ 0.01856435  0.00323141  0.04157985 -0.04175168]\n",
      " [-0.02186538 -0.00669532  0.01176731 -0.0304105 ]\n",
      " [-0.04002833 -0.04024273  0.0603158   0.00202133]\n",
      " [ 0.06300092 -0.08333338 -0.09999038 -0.02277627]\n",
      " [-0.03207715 -0.02979639  0.02165829 -0.02444825]\n",
      " [ 0.01658143  0.01263257  0.01796791 -0.01539641]\n",
      " [-0.03284027  0.02691882 -0.03628383  0.04218812]\n",
      " [-0.01999694 -0.05452745  0.02457199 -0.01666236]\n",
      " [ 0.06099735  0.0220171   0.00046912  0.04918686]\n",
      " [-0.07205161 -0.01934245  0.03647005  0.05086164]\n",
      " [-0.04147867  0.03614606 -0.02881519 -0.01321828]\n",
      " [-0.00942766 -0.04066352  0.03155195 -0.02511723]\n",
      " [-0.0031275   0.03144744 -0.00565111 -0.0288538 ]\n",
      " [-0.01377109  0.07453412  0.05743903 -0.03747224]\n",
      " [ 0.04855781  0.01795012  0.03258563 -0.01734058]\n",
      " [ 0.04753674 -0.04604667  0.01026996 -0.0236244 ]\n",
      " [ 0.08560494  0.02851824  0.04271397 -0.09265744]]\n"
     ]
    }
   ],
   "source": [
    "weights = model.get_layer('embedding').get_weights()[0]\n",
    "print('len(weights):', len(weights))\n",
    "print('weights:')\n",
    "print(weights)"
   ]
  },
  {
   "cell_type": "code",
   "execution_count": 52,
   "metadata": {},
   "outputs": [
    {
     "name": "stdout",
     "output_type": "stream",
     "text": [
      "weights[13]: [ 0.01856435  0.00323141  0.04157985 -0.04175168]\n"
     ]
    }
   ],
   "source": [
    "print('weights[13]:', weights[13])"
   ]
  },
  {
   "cell_type": "code",
   "execution_count": 53,
   "metadata": {},
   "outputs": [
    {
     "name": "stdout",
     "output_type": "stream",
     "text": [
      "weights[4]: [ 0.07662225  0.07200582  0.07823209 -0.0928142 ]\n"
     ]
    }
   ],
   "source": [
    "print('weights[4]:', weights[4])"
   ]
  },
  {
   "cell_type": "code",
   "execution_count": 54,
   "metadata": {
    "scrolled": true
   },
   "outputs": [
    {
     "name": "stdout",
     "output_type": "stream",
     "text": [
      "weights[16]: [ 0.06300092 -0.08333338 -0.09999038 -0.02277627]\n"
     ]
    }
   ],
   "source": [
    "print('weights[16]:', weights[16])"
   ]
  }
 ],
 "metadata": {
  "kernelspec": {
   "display_name": "Python 3 (ipykernel)",
   "language": "python",
   "name": "python3"
  },
  "language_info": {
   "codemirror_mode": {
    "name": "ipython",
    "version": 3
   },
   "file_extension": ".py",
   "mimetype": "text/x-python",
   "name": "python",
   "nbconvert_exporter": "python",
   "pygments_lexer": "ipython3",
   "version": "3.10.12"
  }
 },
 "nbformat": 4,
 "nbformat_minor": 4
}
