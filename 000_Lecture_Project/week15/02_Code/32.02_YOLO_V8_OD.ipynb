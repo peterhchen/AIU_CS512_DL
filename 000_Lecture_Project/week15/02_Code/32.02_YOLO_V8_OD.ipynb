{
  "metadata": {
    "kernelspec": {
      "display_name": "Python 3",
      "name": "python3"
    },
    "language_info": {
      "pygments_lexer": "ipython3",
      "nbconvert_exporter": "python",
      "version": "3.6.4",
      "file_extension": ".py",
      "codemirror_mode": {
        "name": "ipython",
        "version": 3
      },
      "name": "python",
      "mimetype": "text/x-python"
    },
    "colab": {
      "name": "Object detection by using YOLOv8",
      "provenance": [],
      "gpuType": "T4"
    },
    "accelerator": "GPU"
  },
  "nbformat_minor": 0,
  "nbformat": 4,
  "cells": [
    {
      "source": [
        "\n",
        "# IMPORTANT: RUN THIS CELL IN ORDER TO IMPORT YOUR KAGGLE DATA SOURCES\n",
        "# TO THE CORRECT LOCATION (/kaggle/input) IN YOUR NOTEBOOK,\n",
        "# THEN FEEL FREE TO DELETE THIS CELL.\n",
        "# NOTE: THIS NOTEBOOK ENVIRONMENT DIFFERS FROM KAGGLE'S PYTHON\n",
        "# ENVIRONMENT SO THERE MAY BE MISSING LIBRARIES USED BY YOUR\n",
        "# NOTEBOOK.\n",
        "\n",
        "import os\n",
        "import sys\n",
        "from tempfile import NamedTemporaryFile\n",
        "from urllib.request import urlopen\n",
        "from urllib.parse import unquote, urlparse\n",
        "from urllib.error import HTTPError\n",
        "from zipfile import ZipFile\n",
        "import tarfile\n",
        "import shutil\n",
        "\n",
        "CHUNK_SIZE = 40960\n",
        "DATA_SOURCE_MAPPING = 'self-driving-cars:https%3A%2F%2Fstorage.googleapis.com%2Fkaggle-data-sets%2F786319%2F2903151%2Fbundle%2Farchive.zip%3FX-Goog-Algorithm%3DGOOG4-RSA-SHA256%26X-Goog-Credential%3Dgcp-kaggle-com%2540kaggle-161607.iam.gserviceaccount.com%252F20240523%252Fauto%252Fstorage%252Fgoog4_request%26X-Goog-Date%3D20240523T160614Z%26X-Goog-Expires%3D259200%26X-Goog-SignedHeaders%3Dhost%26X-Goog-Signature%3D70e0761c7dd64c3ad8fb0bd0ce3dd7d1d0e9524ceb530364b2c6ffd35fadcf1a38bb16329c5ab592d28befa49cd0dbd0d12f6a11fa41f3df87e3c8cf905ea30a20effd0bc449f4b57570a93e599f5c67be7335def52f63f670ec47f07898c22cea42a742e318fa3e1d0fb1e9be1b7d77c22c8835ae2380af8a3fbfd0daa37e02f83a26b8caac5e241c2ea924e8ce12b4935f43e37408bac83cca70b828578cb6eb09259e9c9e7bbe8c6fe8ec74e1dd14139e5a73990a4136c7f24385cf5285ce77d6bcfbab72d080e10f1b03139ee03645861ddfe8d061c87692d26d76ae2201e5777270b47c1f11fbe9f508a85d586f61bcc8dc6ce4e342f229be253567b0e8'\n",
        "\n",
        "KAGGLE_INPUT_PATH='/kaggle/input'\n",
        "KAGGLE_WORKING_PATH='/kaggle/working'\n",
        "KAGGLE_SYMLINK='kaggle'\n",
        "\n",
        "!umount /kaggle/input/ 2> /dev/null\n",
        "shutil.rmtree('/kaggle/input', ignore_errors=True)\n",
        "os.makedirs(KAGGLE_INPUT_PATH, 0o777, exist_ok=True)\n",
        "os.makedirs(KAGGLE_WORKING_PATH, 0o777, exist_ok=True)\n",
        "\n",
        "try:\n",
        "  os.symlink(KAGGLE_INPUT_PATH, os.path.join(\"..\", 'input'), target_is_directory=True)\n",
        "except FileExistsError:\n",
        "  pass\n",
        "try:\n",
        "  os.symlink(KAGGLE_WORKING_PATH, os.path.join(\"..\", 'working'), target_is_directory=True)\n",
        "except FileExistsError:\n",
        "  pass\n",
        "\n",
        "for data_source_mapping in DATA_SOURCE_MAPPING.split(','):\n",
        "    directory, download_url_encoded = data_source_mapping.split(':')\n",
        "    download_url = unquote(download_url_encoded)\n",
        "    filename = urlparse(download_url).path\n",
        "    destination_path = os.path.join(KAGGLE_INPUT_PATH, directory)\n",
        "    try:\n",
        "        with urlopen(download_url) as fileres, NamedTemporaryFile() as tfile:\n",
        "            total_length = fileres.headers['content-length']\n",
        "            print(f'Downloading {directory}, {total_length} bytes compressed')\n",
        "            dl = 0\n",
        "            data = fileres.read(CHUNK_SIZE)\n",
        "            while len(data) > 0:\n",
        "                dl += len(data)\n",
        "                tfile.write(data)\n",
        "                done = int(50 * dl / int(total_length))\n",
        "                sys.stdout.write(f\"\\r[{'=' * done}{' ' * (50-done)}] {dl} bytes downloaded\")\n",
        "                sys.stdout.flush()\n",
        "                data = fileres.read(CHUNK_SIZE)\n",
        "            if filename.endswith('.zip'):\n",
        "              with ZipFile(tfile) as zfile:\n",
        "                zfile.extractall(destination_path)\n",
        "            else:\n",
        "              with tarfile.open(tfile.name) as tarfile:\n",
        "                tarfile.extractall(destination_path)\n",
        "            print(f'\\nDownloaded and uncompressed: {directory}')\n",
        "    except HTTPError as e:\n",
        "        print(f'Failed to load (likely expired) {download_url} to path {destination_path}')\n",
        "        continue\n",
        "    except OSError as e:\n",
        "        print(f'Failed to load {download_url} to path {destination_path}')\n",
        "        continue\n",
        "\n",
        "print('Data source import complete.')\n"
      ],
      "metadata": {
        "id": "GEJLUDfKNkZd",
        "outputId": "4da5ac54-0c72-4e6c-a948-9f7f7011e2d8",
        "colab": {
          "base_uri": "https://localhost:8080/"
        }
      },
      "cell_type": "code",
      "outputs": [
        {
          "output_type": "stream",
          "name": "stdout",
          "text": [
            "Downloading self-driving-cars, 935253372 bytes compressed\n",
            "[============================                      ] 535633920 bytes downloaded"
          ]
        }
      ],
      "execution_count": null
    },
    {
      "cell_type": "markdown",
      "source": [
        "<div style=\"border-radius:10px; border:#f79a05 solid; padding: 15px; background-color: #f5d77f; font-size:100%; text-align:left\">\n",
        "\n",
        "<h3 align=\"left\"><font color='#f79a05'>💡 Inspiration:</font></h3>\n",
        "    \n",
        "**Purpose**: to object detection in images by using **YOLOv8**.\n",
        "\n",
        "**Object detection** is a computer technology related to computer vision and image processing that deals with detecting instances of semantic objects of a certain class (such as humans, buildings, or cars) in digital images and videos.\n",
        "When it comes to object detection, popular detection frameworks are\n",
        "\n",
        "* YOLO\n",
        "* SSD\n",
        "* Faster R-CNN\n"
      ],
      "metadata": {
        "execution": {
          "iopub.status.busy": "2023-08-05T07:04:01.361549Z",
          "iopub.execute_input": "2023-08-05T07:04:01.362557Z",
          "iopub.status.idle": "2023-08-05T07:04:02.711366Z",
          "shell.execute_reply.started": "2023-08-05T07:04:01.362506Z",
          "shell.execute_reply": "2023-08-05T07:04:02.7101Z"
        },
        "id": "UrYZtPtnNkZk"
      }
    },
    {
      "cell_type": "markdown",
      "source": [
        "# <p style=\"font-family:JetBrains Mono; font-weight:bold; letter-spacing: 2px; color:#9c7606; font-size:140%; text-align:left;padding: 10px; border-bottom: 2px solid #f79a05\"> What is YOLO exactly?</p>"
      ],
      "metadata": {
        "id": "brtD_OyMNkZp"
      }
    },
    {
      "cell_type": "markdown",
      "source": [
        "<div style=\"border-radius:10px; border:#f79a05 solid; padding: 15px; background-color: #f5d77f; font-size:100%; text-align:left\">\n",
        "\n",
        "<h3 align=\"left\"><font color='black'>What is YOLO exactly?</font></h3>\n",
        "    \n",
        "**YOLO** (You Only Look Once) is a method / way to do object detection. It is the algorithm /strategy behind how the code is going to detect objects in the image.\n",
        "\n",
        "Earlier detection frameworks, looked at different parts of the image multiple times at different scales and repurposed image classification technique to detect objects. This approach is slow and inefficient.\n",
        "\n",
        "YOLO takes entirely different approach. It looks at the entire image only once and goes through the network once and detects objects. Hence the name. It is very fast. That’s the reason it has got so popular."
      ],
      "metadata": {
        "id": "puzJALUwNkZq"
      }
    },
    {
      "cell_type": "markdown",
      "source": [
        "# <p style=\"font-family:JetBrains Mono; font-weight:bold; letter-spacing: 2px; color:#9c7606; font-size:140%; text-align:left;padding: 10px; border-bottom: 2px solid #f79a05\"> Import Libraries</p>"
      ],
      "metadata": {
        "id": "rUZVBb9wNkZq"
      }
    },
    {
      "cell_type": "code",
      "source": [
        "import numpy as np\n",
        "import pandas as pd\n",
        "import cv2\n",
        "\n",
        "from sklearn.utils import shuffle\n",
        "from matplotlib.patches import Rectangle\n",
        "import matplotlib.pyplot as plt\n",
        "\n",
        "import warnings\n",
        "\n",
        "warnings.simplefilter('ignore')"
      ],
      "metadata": {
        "execution": {
          "iopub.status.busy": "2023-08-05T08:56:14.909941Z",
          "iopub.execute_input": "2023-08-05T08:56:14.910354Z",
          "iopub.status.idle": "2023-08-05T08:56:14.916827Z",
          "shell.execute_reply.started": "2023-08-05T08:56:14.910322Z",
          "shell.execute_reply": "2023-08-05T08:56:14.915566Z"
        },
        "trusted": true,
        "id": "wi5Yt94sNkZr"
      },
      "execution_count": null,
      "outputs": []
    },
    {
      "cell_type": "markdown",
      "source": [
        "### <p style=\"font-family:JetBrains Mono; font-weight:bold; letter-spacing: 2px; color:#9c7606; font-size:140%; text-align:left;padding: 10px; border-bottom: 2px solid #f79a05\"> Load data</p>"
      ],
      "metadata": {
        "id": "JKU0cOVTNkZt"
      }
    },
    {
      "cell_type": "code",
      "source": [
        "df = pd.read_csv('../input/self-driving-cars/labels_train.csv')\n",
        "df = shuffle(df)\n",
        "df.head()"
      ],
      "metadata": {
        "execution": {
          "iopub.status.busy": "2023-08-05T08:56:14.918703Z",
          "iopub.execute_input": "2023-08-05T08:56:14.91908Z",
          "iopub.status.idle": "2023-08-05T08:56:15.077244Z",
          "shell.execute_reply.started": "2023-08-05T08:56:14.919037Z",
          "shell.execute_reply": "2023-08-05T08:56:15.07601Z"
        },
        "trusted": true,
        "id": "5VJvTeg3NkZt"
      },
      "execution_count": null,
      "outputs": []
    },
    {
      "cell_type": "markdown",
      "source": [
        "<div style=\"border-radius:10px; border:#f79a05 solid; padding: 15px; background-color: #f5d77f; font-size:100%; text-align:left\">\n",
        "    \n",
        " * This dataset is mostly a practice and training aspect for the subject of YOLO. The data is labeled with 5 classes.\n",
        " * classic_id labels: 'car', 'truck', 'pedestrian', 'bicyclist', 'light'"
      ],
      "metadata": {
        "id": "8d_y1TKPNkZu"
      }
    },
    {
      "cell_type": "code",
      "source": [
        "classes = df.class_id.unique()\n",
        "print(classes)"
      ],
      "metadata": {
        "execution": {
          "iopub.status.busy": "2023-08-05T08:56:15.079082Z",
          "iopub.execute_input": "2023-08-05T08:56:15.079519Z",
          "iopub.status.idle": "2023-08-05T08:56:15.086958Z",
          "shell.execute_reply.started": "2023-08-05T08:56:15.07948Z",
          "shell.execute_reply": "2023-08-05T08:56:15.085571Z"
        },
        "trusted": true,
        "id": "lk12UhfwNkZu"
      },
      "execution_count": null,
      "outputs": []
    },
    {
      "cell_type": "code",
      "source": [
        "labels = { 1:'car', 2:'truck', 3:'person', 4:'bicycle', 5:'traffic light'}"
      ],
      "metadata": {
        "execution": {
          "iopub.status.busy": "2023-08-05T08:56:15.088674Z",
          "iopub.execute_input": "2023-08-05T08:56:15.089025Z",
          "iopub.status.idle": "2023-08-05T08:56:15.099501Z",
          "shell.execute_reply.started": "2023-08-05T08:56:15.088995Z",
          "shell.execute_reply": "2023-08-05T08:56:15.098477Z"
        },
        "trusted": true,
        "id": "rCxpMzvvNkZv"
      },
      "execution_count": null,
      "outputs": []
    },
    {
      "cell_type": "markdown",
      "source": [
        "# <p style=\"font-family:JetBrains Mono; font-weight:bold; letter-spacing: 2px; color:#9c7606; font-size:140%; text-align:left;padding: 10px; border-bottom: 2px solid #f79a05\"> Show some labeled images</p>"
      ],
      "metadata": {
        "id": "d0vv53G_NkZv"
      }
    },
    {
      "cell_type": "code",
      "source": [
        "# Get path images and boxes (x,y) for each class_id\n",
        "boxes = {}\n",
        "images = {}\n",
        "\n",
        "base_path = '../input/self-driving-cars/images/'\n",
        "\n",
        "for class_id in classes:\n",
        "    first_row = df[df['class_id'] == class_id].iloc[0]\n",
        "\n",
        "    images[class_id] = cv2.imread(base_path + first_row['frame'])\n",
        "    boxes[class_id] = [first_row['xmin'],first_row['xmax'],first_row['ymin'],first_row['ymax']]"
      ],
      "metadata": {
        "execution": {
          "iopub.status.busy": "2023-08-05T08:56:15.101908Z",
          "iopub.execute_input": "2023-08-05T08:56:15.102275Z",
          "iopub.status.idle": "2023-08-05T08:56:15.212371Z",
          "shell.execute_reply.started": "2023-08-05T08:56:15.102242Z",
          "shell.execute_reply": "2023-08-05T08:56:15.211512Z"
        },
        "trusted": true,
        "id": "V9WeRvSONkZv"
      },
      "execution_count": null,
      "outputs": []
    },
    {
      "cell_type": "code",
      "source": [
        "for i in classes:\n",
        "\n",
        "    xmin, xmax, ymin, ymax = boxes[i][0], boxes[i][1], boxes[i][2], boxes[i][3]\n",
        "\n",
        "    plt.figure(figsize=(8, 10))\n",
        "    plt.title(\"Label \" + labels[i])\n",
        "    plt.imshow(images[i])\n",
        "    plt.gca().add_patch(plt.Rectangle((xmin, ymin), xmax-xmin, ymax-ymin, color='yellow', fill=False, linewidth=2))\n",
        "\n",
        "    plt.show()"
      ],
      "metadata": {
        "execution": {
          "iopub.status.busy": "2023-08-05T08:56:15.213954Z",
          "iopub.execute_input": "2023-08-05T08:56:15.214298Z",
          "iopub.status.idle": "2023-08-05T08:56:17.230841Z",
          "shell.execute_reply.started": "2023-08-05T08:56:15.214269Z",
          "shell.execute_reply": "2023-08-05T08:56:17.229574Z"
        },
        "trusted": true,
        "id": "50FYcYwINkZw"
      },
      "execution_count": null,
      "outputs": []
    },
    {
      "cell_type": "markdown",
      "source": [
        "# <p style=\"font-family:JetBrains Mono; font-weight:bold; letter-spacing: 2px; color:#9c7606; font-size:140%; text-align:left;padding: 10px; border-bottom: 2px solid #f79a05\"> Model</p>"
      ],
      "metadata": {
        "id": "G7oap5eRNkZw"
      }
    },
    {
      "cell_type": "code",
      "source": [
        "!pip install ultralytics"
      ],
      "metadata": {
        "_kg_hide-input": false,
        "_kg_hide-output": true,
        "execution": {
          "iopub.status.busy": "2023-08-05T08:56:17.23261Z",
          "iopub.execute_input": "2023-08-05T08:56:17.233044Z",
          "iopub.status.idle": "2023-08-05T08:56:28.596094Z",
          "shell.execute_reply.started": "2023-08-05T08:56:17.233007Z",
          "shell.execute_reply": "2023-08-05T08:56:28.5946Z"
        },
        "trusted": true,
        "id": "9Vd_8itcNkZw"
      },
      "execution_count": null,
      "outputs": []
    },
    {
      "cell_type": "code",
      "source": [
        "from ultralytics import YOLO\n",
        "import PIL\n",
        "from PIL import Image\n",
        "from IPython.display import display\n",
        "import os\n",
        "import pathlib"
      ],
      "metadata": {
        "execution": {
          "iopub.status.busy": "2023-08-05T08:56:28.59821Z",
          "iopub.execute_input": "2023-08-05T08:56:28.598654Z",
          "iopub.status.idle": "2023-08-05T08:56:28.605392Z",
          "shell.execute_reply.started": "2023-08-05T08:56:28.598607Z",
          "shell.execute_reply": "2023-08-05T08:56:28.603935Z"
        },
        "trusted": true,
        "id": "bn-KVJr3NkZw"
      },
      "execution_count": null,
      "outputs": []
    },
    {
      "cell_type": "code",
      "source": [
        "model = YOLO(\"yolov8m.pt\")"
      ],
      "metadata": {
        "execution": {
          "iopub.status.busy": "2023-08-05T08:56:28.608825Z",
          "iopub.execute_input": "2023-08-05T08:56:28.609495Z",
          "iopub.status.idle": "2023-08-05T08:56:28.743964Z",
          "shell.execute_reply.started": "2023-08-05T08:56:28.60943Z",
          "shell.execute_reply": "2023-08-05T08:56:28.74284Z"
        },
        "trusted": true,
        "id": "K6yA4vH7NkZx"
      },
      "execution_count": null,
      "outputs": []
    },
    {
      "cell_type": "code",
      "source": [
        "results=model.predict(source=\"/kaggle/input/self-driving-cars/images/1478019956680248165.jpg\",\n",
        "              save=True, conf=0.2,iou=0.5)"
      ],
      "metadata": {
        "execution": {
          "iopub.status.busy": "2023-08-05T08:56:28.745061Z",
          "iopub.execute_input": "2023-08-05T08:56:28.745393Z",
          "iopub.status.idle": "2023-08-05T08:56:30.995248Z",
          "shell.execute_reply.started": "2023-08-05T08:56:28.745363Z",
          "shell.execute_reply": "2023-08-05T08:56:30.994376Z"
        },
        "trusted": true,
        "id": "y0juuBQaNkZx"
      },
      "execution_count": null,
      "outputs": []
    },
    {
      "cell_type": "code",
      "source": [
        "result = results[0]\n",
        "box = result.boxes[0]"
      ],
      "metadata": {
        "execution": {
          "iopub.status.busy": "2023-08-05T08:56:30.997075Z",
          "iopub.execute_input": "2023-08-05T08:56:30.99796Z",
          "iopub.status.idle": "2023-08-05T08:56:31.003252Z",
          "shell.execute_reply.started": "2023-08-05T08:56:30.997912Z",
          "shell.execute_reply": "2023-08-05T08:56:31.00232Z"
        },
        "trusted": true,
        "id": "DTx8q9bTNkZx"
      },
      "execution_count": null,
      "outputs": []
    },
    {
      "cell_type": "code",
      "source": [
        "for result in results:\n",
        "    boxes = result.boxes  # Boxes object for bbox outputs\n",
        "    masks = result.masks  # Masks object for segmentation masks outputs\n",
        "    probs = result.probs  # Class probabilities for classification outputs"
      ],
      "metadata": {
        "execution": {
          "iopub.status.busy": "2023-08-05T08:56:31.005157Z",
          "iopub.execute_input": "2023-08-05T08:56:31.006073Z",
          "iopub.status.idle": "2023-08-05T08:56:31.018276Z",
          "shell.execute_reply.started": "2023-08-05T08:56:31.006026Z",
          "shell.execute_reply": "2023-08-05T08:56:31.016938Z"
        },
        "trusted": true,
        "id": "qnrOPOeQNkZx"
      },
      "execution_count": null,
      "outputs": []
    },
    {
      "cell_type": "code",
      "source": [
        "cords = box.xyxy[0].tolist()\n",
        "class_id = box.cls[0].item()\n",
        "conf = box.conf[0].item()\n",
        "print(\"Object type:\", class_id)\n",
        "print(\"Coordinates:\", cords)\n",
        "print(\"Probability:\", conf)"
      ],
      "metadata": {
        "execution": {
          "iopub.status.busy": "2023-08-05T08:56:31.019965Z",
          "iopub.execute_input": "2023-08-05T08:56:31.020753Z",
          "iopub.status.idle": "2023-08-05T08:56:31.032532Z",
          "shell.execute_reply.started": "2023-08-05T08:56:31.020706Z",
          "shell.execute_reply": "2023-08-05T08:56:31.031348Z"
        },
        "trusted": true,
        "id": "fI-HIRd5NkZx"
      },
      "execution_count": null,
      "outputs": []
    },
    {
      "cell_type": "code",
      "source": [
        "for box in result.boxes:\n",
        "    class_id = result.names[box.cls[0].item()]\n",
        "    cords = box.xyxy[0].tolist()\n",
        "    cords = [round(x) for x in cords]\n",
        "    conf = round(box.conf[0].item(), 2)\n",
        "    print(\"Object type:\", class_id)\n",
        "    print(\"Coordinates:\", cords)\n",
        "    print(\"Probability:\", conf)\n",
        "    print(\"---\")"
      ],
      "metadata": {
        "execution": {
          "iopub.status.busy": "2023-08-05T08:56:31.03399Z",
          "iopub.execute_input": "2023-08-05T08:56:31.035017Z",
          "iopub.status.idle": "2023-08-05T08:56:31.050108Z",
          "shell.execute_reply.started": "2023-08-05T08:56:31.034969Z",
          "shell.execute_reply": "2023-08-05T08:56:31.048889Z"
        },
        "trusted": true,
        "id": "UcP8ibXVNkZx"
      },
      "execution_count": null,
      "outputs": []
    },
    {
      "cell_type": "code",
      "source": [
        "results1 = model.predict(source=\"/kaggle/input/self-driving-cars/images/1478020211690815798.jpg\",\n",
        "              save=True, conf=0.2,iou=0.5)\n",
        "\n",
        "Results = results1[0]"
      ],
      "metadata": {
        "execution": {
          "iopub.status.busy": "2023-08-05T08:56:31.051839Z",
          "iopub.execute_input": "2023-08-05T08:56:31.052753Z",
          "iopub.status.idle": "2023-08-05T08:56:31.596376Z",
          "shell.execute_reply.started": "2023-08-05T08:56:31.052699Z",
          "shell.execute_reply": "2023-08-05T08:56:31.595259Z"
        },
        "trusted": true,
        "id": "KqzjgScDNkZy"
      },
      "execution_count": null,
      "outputs": []
    },
    {
      "cell_type": "code",
      "source": [
        "# Plotting results\n",
        "plot = results1[0].plot()\n",
        "plot = cv2.cvtColor(plot, cv2.COLOR_BGR2RGB)\n",
        "display(Image.fromarray(plot))"
      ],
      "metadata": {
        "execution": {
          "iopub.status.busy": "2023-08-05T08:56:31.598864Z",
          "iopub.execute_input": "2023-08-05T08:56:31.599923Z",
          "iopub.status.idle": "2023-08-05T08:56:31.663686Z",
          "shell.execute_reply.started": "2023-08-05T08:56:31.59987Z",
          "shell.execute_reply": "2023-08-05T08:56:31.662278Z"
        },
        "trusted": true,
        "id": "RGEQsOSGNkZy"
      },
      "execution_count": null,
      "outputs": []
    },
    {
      "cell_type": "code",
      "source": [],
      "metadata": {
        "id": "nNooHlAwNkZy"
      },
      "execution_count": null,
      "outputs": []
    }
  ]
}