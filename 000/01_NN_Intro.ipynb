{
 "cells": [
  {
   "cell_type": "code",
   "execution_count": 10,
   "id": "d1a9ab51-9801-4fd3-a2a8-aaf75ce5e7ec",
   "metadata": {},
   "outputs": [
    {
     "name": "stdout",
     "output_type": "stream",
     "text": [
      "sys.version: 3.11.4 (main, Jul  5 2023, 13:45:01) [GCC 11.2.0]\n",
      "output: Python 3.11.4\n",
      "Numpy: 1.25.2\n",
      "Matplotlib: 3.7.2\n"
     ]
    }
   ],
   "source": [
    "import sys\n",
    "import subprocess\n",
    "import numpy as np\n",
    "import matplotlib\n",
    "\n",
    "print(\"sys.version:\", sys.version)\n",
    "output, _ = subprocess.check_output(\"python --version\", shell=True).decode(\"utf-8\").split(\"\\n\")\n",
    "print(\"output:\", output)\n",
    "print(\"Numpy:\", np.__version__)\n",
    "print(\"Matplotlib:\", matplotlib.__version__)"
   ]
  },
  {
   "cell_type": "code",
   "execution_count": 14,
   "id": "4637a003",
   "metadata": {},
   "outputs": [
    {
     "name": "stdout",
     "output_type": "stream",
     "text": [
      "output: 35.7\n"
     ]
    }
   ],
   "source": [
    "# We have one input layer with 3 inputs, 3 weights, and\n",
    "# one output layer with 1 ouput.\n",
    "inputs = [1.2, 5.1, 2.1]\n",
    "weights = [3.1, 2.1, 8.7]\n",
    "bias = 3\n",
    "output = inputs[0]*weights[0] +  inputs[1]*weights[1] + inputs[2]*weights[2] + bias\n",
    "print('output:', output)"
   ]
  }
 ],
 "metadata": {
  "kernelspec": {
   "display_name": "Python 3 (ipykernel)",
   "language": "python",
   "name": "python3"
  },
  "language_info": {
   "codemirror_mode": {
    "name": "ipython",
    "version": 3
   },
   "file_extension": ".py",
   "mimetype": "text/x-python",
   "name": "python",
   "nbconvert_exporter": "python",
   "pygments_lexer": "ipython3",
   "version": "3.11.4"
  }
 },
 "nbformat": 4,
 "nbformat_minor": 5
}
